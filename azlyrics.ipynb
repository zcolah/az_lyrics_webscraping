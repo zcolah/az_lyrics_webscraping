{
 "cells": [
  {
   "cell_type": "code",
   "execution_count": null,
   "metadata": {},
   "outputs": [],
   "source": [
    "# AZLYRICS LIBRARY CAN BE USED TO SCRAPE THE AZLYRICS WEBSITE FOR THE LYRICS OF ANY ARTIST"
   ]
  },
  {
   "cell_type": "code",
   "execution_count": 48,
   "metadata": {},
   "outputs": [],
   "source": [
    "import csv\n",
    "# Import beautiful soup\n",
    "from bs4 import BeautifulSoup as bs\n",
    "import requests as r\n",
    "import re\n",
    "import csv"
   ]
  },
  {
   "cell_type": "code",
   "execution_count": 34,
   "metadata": {},
   "outputs": [],
   "source": [
    "# Returns the artist's page which list's their songs\n",
    "def get_artist_page(artist_name):\n",
    "    query = \"https://search.azlyrics.com/search.php?q=\"+artist_name\n",
    "    # Use the `get` method of the requests library to fetch the page content\n",
    "    page = r.get(query)\n",
    "    # Use bs to parse the HTML returned\n",
    "    soup = bs(page.content, \"html.parser\")\n",
    "    # returns the first search result for the artist_name\n",
    "    return (soup.td.a['href'])"
   ]
  },
  {
   "cell_type": "code",
   "execution_count": 35,
   "metadata": {},
   "outputs": [],
   "source": [
    "# Returns the links of all the songs of the artist\n",
    "def get_song_links(song_list_link):\n",
    "    query = song_list_link\n",
    "    # Use the `get` method of the requests library to fetch the page content\n",
    "    page = r.get(query)\n",
    "    soup = bs(page.content, \"html.parser\")\n",
    "    song_tags = soup.select('a[target=\"_blank\"]')\n",
    "    return [\"https://www.azlyrics.com\"+ (s.get('href'))[2:] for s in song_tags]"
   ]
  },
  {
   "cell_type": "code",
   "execution_count": 36,
   "metadata": {},
   "outputs": [],
   "source": [
    "# Returns the title from a soup of a song\n",
    "def get_title(soup):\n",
    "    return ((soup.h1.text)[1:-8])"
   ]
  },
  {
   "cell_type": "code",
   "execution_count": 4,
   "metadata": {},
   "outputs": [],
   "source": [
    "# Returns the album from a soup of a song\n",
    "def get_album(soup):\n",
    "    \n",
    "    dirty_album = soup.findAll(\"div\",\"panel songlist-panel noprint\")\n",
    "\n",
    "    # If list is empty, this means that is a single of the artist\n",
    "\n",
    "    if not dirty_album:\n",
    "        return \"Artist Single - No Album Available\"\n",
    "\n",
    "    # If list not empty this means that the single exists\n",
    "    else:\n",
    "        return  dirty_album[0].b.text[1:-1]"
   ]
  },
  {
   "cell_type": "code",
   "execution_count": 5,
   "metadata": {},
   "outputs": [],
   "source": [
    "# Returns the lyrics from a soup of a song\n",
    "def get_lyrics(soup):\n",
    "\n",
    "    #d_lyrics is dirty messy lyrics data\n",
    "    d_lyrics = soup.findAll(\"div\",attrs={'class': None, 'id': None})\n",
    "    \n",
    "    # Cleaning the lyrics\n",
    "    \n",
    "    # Substituting out special characters and removing the break new line (\\n) \n",
    "\n",
    "    cleaner = (((d_lyrics[0].text)[2:]).replace(\"\\n\",\" \").replace(\"\\r\",\" \"))\n",
    "    cleanest = re.sub('[(<.!,;?>/\\-)]', \" \", cleaner)\n",
    "\n",
    "\n",
    "    return cleanest"
   ]
  },
  {
   "cell_type": "code",
   "execution_count": 39,
   "metadata": {},
   "outputs": [],
   "source": [
    "# Returns a list of songs for the artist\n",
    "def get_songs(artist_name):\n",
    "    \n",
    "    artist_link = get_artist_page(artist_name)\n",
    "    song_links = get_song_links(artist_link)\n",
    "    \n",
    "    song_list = []\n",
    "    \n",
    "    for link in song_links:\n",
    "        \n",
    "        page = r.get(link)\n",
    "        soup = bs(page.content, \"html.parser\")\n",
    "        \n",
    "        title = get_title(soup)\n",
    "        song_list.append(title)\n",
    "\n",
    "    return song_list\n",
    "\n",
    "#get_songs('Zane')"
   ]
  },
  {
   "cell_type": "code",
   "execution_count": 7,
   "metadata": {},
   "outputs": [],
   "source": [
    "# Returns a list of lyrics for a list of songs \n",
    "def get_lyrics_by_song_links(song_links):\n",
    "    \n",
    "    from bs4 import BeautifulSoup as bs    \n",
    "    import requests as r\n",
    "    from time import sleep\n",
    "    \n",
    "    # url needed to find artist name\n",
    "    artist_link = song_links[0]\n",
    "    \n",
    "    artist = ((artist_link[32:]).split(\"/\", 1)[0])\n",
    "    \n",
    "    lyrics_list = [] \n",
    "    \n",
    "    for link in song_links:\n",
    "        \n",
    "        sleep(30) \n",
    "        page = r.get(link, proxies=proxies)\n",
    "        soup = bs(page.content, \"html.parser\")\n",
    "        title = get_title(soup)\n",
    "        album = get_album(soup)\n",
    "        lyrics = get_lyrics(soup)\n",
    "        \n",
    "        song = {\"title\": title, \n",
    "                \"album\": album,\n",
    "                \"lyrics\": lyrics,\n",
    "                \"link\": link}  \n",
    "\n",
    "        lyrics_list.append(song)\n",
    "        \n",
    "    return lyrics_list        "
   ]
  },
  {
   "cell_type": "code",
   "execution_count": 40,
   "metadata": {},
   "outputs": [],
   "source": [
    "# returns a list of songs with their lyrics for a particular artist\n",
    "# e.g. get_lyrics_for_artist(\"zane\")\n",
    "def get_lyrics_for_artist(artist_name):\n",
    "    \n",
    "    artist_link = get_artist_page(artist_name)\n",
    "    song_links = get_song_links(artist_link)\n",
    "    \n",
    "    from time import sleep\n",
    "    \n",
    "    lyrics_list = [] \n",
    "    \n",
    "    for link in song_links:\n",
    "        sleep(5) \n",
    "       \n",
    "        page = r.get(link)\n",
    "        soup = bs(page.content, \"html.parser\")\n",
    "\n",
    "        artist = artist_name\n",
    "        title = get_title(soup)\n",
    "        #print(title)\n",
    "        album = get_album(soup)\n",
    "        lyrics = get_lyrics(soup)\n",
    "\n",
    "        song = {\"title\": title, \n",
    "                \"album\": album,\n",
    "                \"lyrics\": lyrics,\n",
    "                \"link\": link}  \n",
    "\n",
    "        lyrics_list.append(song)\n",
    "        \n",
    "    return lyrics_list\n"
   ]
  },
  {
   "cell_type": "code",
   "execution_count": 54,
   "metadata": {},
   "outputs": [],
   "source": [
    "#zane_lyrics = get_lyrics_for_artist(\"zane\")"
   ]
  },
  {
   "cell_type": "code",
   "execution_count": 41,
   "metadata": {},
   "outputs": [],
   "source": [
    "# returns the numbers of words in a list of lyrics\n",
    "def lyric_counter(lyrics): \n",
    "    words = lyrics.split()\n",
    "    return len(words)"
   ]
  },
  {
   "cell_type": "code",
   "execution_count": 25,
   "metadata": {},
   "outputs": [],
   "source": [
    "# returns a list of lyric words which are not stop words\n",
    "def stop_word_remover(lyrics):\n",
    "    import re\n",
    "    import nltk\n",
    "    nltk.download('punkt')\n",
    "    from nltk.corpus import stopwords\n",
    "    nltk.download(\"stopwords\")\n",
    "    from nltk.tokenize import word_tokenize \n",
    "\n",
    "    stop_words = set(stopwords.words('english')) \n",
    "    word_tokens = word_tokenize(lyrics)\n",
    "    new_list = [] \n",
    "    \n",
    "    #print(word_tokens)\n",
    "    \n",
    "    for w in word_tokens:\n",
    "        \n",
    "        if not w.lower().replace(\"\\'\", \"\") in stop_words:\n",
    "            clean = re.sub('[(<.!,;?>/\\-)]', \" \", w)\n",
    "            if len(clean) > 1:\n",
    "                new_list.append(clean) \n",
    "            \n",
    "    return new_list\n",
    "\n",
    "#stop_word_remover(hello_lyrics)"
   ]
  },
  {
   "cell_type": "code",
   "execution_count": 42,
   "metadata": {},
   "outputs": [],
   "source": [
    "# returns the most occuring word in the lyric\n",
    "def most_occurring(words):\n",
    "    return max(set(words), key=words.count)"
   ]
  },
  {
   "cell_type": "code",
   "execution_count": 27,
   "metadata": {},
   "outputs": [],
   "source": [
    "#stop_word_remover(hello_lyrics)"
   ]
  },
  {
   "cell_type": "code",
   "execution_count": 46,
   "metadata": {},
   "outputs": [],
   "source": [
    "# Returns a dataframe with the most occuring word in the lyrics and the most number of words\n",
    "def process_song_lyrics(lyrics_list):\n",
    "    \n",
    "    import pandas as pd \n",
    "    \n",
    "    for song in lyrics_list:\n",
    "        \n",
    "        lyrics_song = (song[\"lyrics\"])\n",
    "        song[\"number_of_words\"] = lyric_counter(lyrics_song)\n",
    "        lyrics_without_stop = stop_word_remover(lyrics_song)\n",
    "        song[\"most_occurring_word\"] = most_occurring(lyrics_without_stop)\n",
    "    \n",
    "    lyrics_df = pd.DataFrame(lyrics_list)\n",
    "        \n",
    "    return lyrics_df       "
   ]
  },
  {
   "cell_type": "code",
   "execution_count": 52,
   "metadata": {},
   "outputs": [],
   "source": [
    "#process_song_lyrics(zane_lyrics)"
   ]
  },
  {
   "cell_type": "code",
   "execution_count": 53,
   "metadata": {},
   "outputs": [],
   "source": [
    "# returns a dataframe for the artist provided with lyrics, lyrics count, and most occuring word\n",
    "def get_lyrics_details(artist_name):\n",
    "    lyrics_list = get_lyrics_for_artist(artist_name)\n",
    "    lyrics_df = process_song_lyrics(lyrics_list)\n",
    "    return lyrics_df"
   ]
  }
 ],
 "metadata": {
  "kernelspec": {
   "display_name": "Python 3",
   "language": "python",
   "name": "python3"
  },
  "language_info": {
   "codemirror_mode": {
    "name": "ipython",
    "version": 3
   },
   "file_extension": ".py",
   "mimetype": "text/x-python",
   "name": "python",
   "nbconvert_exporter": "python",
   "pygments_lexer": "ipython3",
   "version": "3.6.5"
  }
 },
 "nbformat": 4,
 "nbformat_minor": 2
}
