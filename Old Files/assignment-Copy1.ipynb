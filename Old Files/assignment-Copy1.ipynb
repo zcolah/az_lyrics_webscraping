{
 "cells": [
  {
   "cell_type": "markdown",
   "metadata": {},
   "source": [
    "# Web Scraping for Lyrics"
   ]
  },
  {
   "cell_type": "code",
   "execution_count": 115,
   "metadata": {},
   "outputs": [],
   "source": [
    "# Artist Name\n",
    "artist = \"carpenters\""
   ]
  },
  {
   "cell_type": "code",
   "execution_count": 116,
   "metadata": {},
   "outputs": [],
   "source": [
    "# Returns the songs list link of the artist\n",
    "\n",
    "def get_song_list_link(artist_name):\n",
    "    # Import beautiful soup\n",
    "    from bs4 import BeautifulSoup as bs\n",
    "    query = \"https://search.azlyrics.com/search.php?q=\"+artist_name\n",
    "    # Use the `get` method of the requests library to fetch the page content\n",
    "    import requests as r\n",
    "    page = r.get(query)\n",
    "    # Use bs to parse the HTML returned\n",
    "    soup = bs(page.content, \"html.parser\")\n",
    "    return (soup.td.a['href'])\n"
   ]
  },
  {
   "cell_type": "code",
   "execution_count": 117,
   "metadata": {},
   "outputs": [],
   "source": [
    "link = get_song_list_link(artist)"
   ]
  },
  {
   "cell_type": "code",
   "execution_count": 268,
   "metadata": {},
   "outputs": [],
   "source": [
    "def get_song_links(song_list_link):\n",
    "    # Import beautiful soup\n",
    "    from bs4 import BeautifulSoup as bs\n",
    "    query = song_list_link\n",
    "    # Use the `get` method of the requests library to fetch the page content\n",
    "    import requests as r\n",
    "    page = r.get(query)\n",
    "    soup = bs(page.content, \"html.parser\")\n",
    "    song_tags = soup.select('a[target=\"_blank\"]')\n",
    "    return [s.get('href') for s in song_tags]"
   ]
  },
  {
   "cell_type": "code",
   "execution_count": 269,
   "metadata": {},
   "outputs": [
    {
     "data": {
      "text/plain": [
       "'../lyrics/carpenters/invocation.html'"
      ]
     },
     "execution_count": 269,
     "metadata": {},
     "output_type": "execute_result"
    }
   ],
   "source": [
    "song_links = get_song_links(link)\n",
    "song_links[0]"
   ]
  },
  {
   "cell_type": "code",
   "execution_count": 242,
   "metadata": {},
   "outputs": [],
   "source": [
    "def get_song(song_link):\n",
    "\n",
    "    import re\n",
    "    \n",
    "    from bs4 import BeautifulSoup as bs\n",
    "    query = song_link\n",
    "    \n",
    "    import requests as r\n",
    "    page = r.get(query)\n",
    "    soup = bs(page.content, \"html.parser\")\n",
    "\n",
    "    #Extracting \n",
    "    \n",
    "    #Extracting Title of the Song and removing spaces\n",
    "    ###############################################################\n",
    "    title = (soup.h1.text)[1:-8]\n",
    "    \n",
    "    #Extracting Album of the Song\n",
    "    ###############################################################\n",
    "    \n",
    "    # Album is extracted out as a list\n",
    "    ###############################################################\n",
    "    dirty_album = soup.findAll(\"div\",\"panel songlist-panel noprint\")\n",
    "\n",
    "    # If list is empty, this means that is a single of the artist\n",
    "    \n",
    "    if not dirty_album:\n",
    "        album = \"Artist Single - No Album Available\"\n",
    "    \n",
    "    # If list not empty this means that the single exists\n",
    "    else:\n",
    "        album = dirty_album[0].b.text[1:-1]\n",
    "\n",
    "    # Lyrics \n",
    "    ###############################################################\n",
    "    d_lyrics = soup.findAll(\"div\",attrs={'class': None, 'id': None})\n",
    "    \n",
    "    # Cleaning the lyrics\n",
    "    \n",
    "    # Substituting out special characters and removing the break new line (\\n) \n",
    "\n",
    "    lyrics = re.sub('[(<.!,;?>/\\-)]', \" \", \n",
    "                    (((d_lyrics[0].text)[2:]).replace(\"\\n\",\" \")))\n",
    "    \n",
    "    \n",
    "    song = {\"title\": title, \n",
    "           \"album\": album,\n",
    "           \"lyrics\": lyrics,\n",
    "           \"link\": song_link}  \n",
    "    return song"
   ]
  },
  {
   "cell_type": "code",
   "execution_count": 243,
   "metadata": {},
   "outputs": [
    {
     "data": {
      "text/plain": [
       "{'title': 'Make You Feel My Love',\n",
       " 'album': '19',\n",
       " 'lyrics': \" When the rain is blowing in your face And the whole world is on your case I could offer you a warm embrace To make you feel my love  When the evening shadows and the stars appear And there is no one there to dry your tears I could hold you for a million years To make you feel my love  I know you haven't made your mind up yet But I will never do you wrong I've known it from the moment that we met No doubt in my mind where you belong  I'd go hungry  I'd go black and blue I'd go crawling down the avenue No  there's nothing that I wouldn't do To make you feel my love  The storms are raging on the rolling sea And on the highway of regret The winds of change are blowing wild and free You ain't seen nothing like me yet  I could make you happy  make your dreams come true Nothing that I wouldn't do Go to the ends of the Earth for you To make you feel my love To make you feel my love \",\n",
       " 'link': 'https://www.azlyrics.com/lyrics/adele/makeyoufeelmylove.html'}"
      ]
     },
     "execution_count": 243,
     "metadata": {},
     "output_type": "execute_result"
    }
   ],
   "source": [
    "get_song(\"https://www.azlyrics.com/lyrics/adele/makeyoufeelmylove.html\")"
   ]
  },
  {
   "cell_type": "code",
   "execution_count": 270,
   "metadata": {},
   "outputs": [],
   "source": [
    "def get_songs(songs):\n",
    "    \n",
    "    artist_music = []\n",
    "    \n",
    "    for link in songs:\n",
    "        \n",
    "        print(link)\n",
    "        query = \"https://www.azlyrics.com/\" + link\n",
    "        #getting the details for each song\n",
    "        artist_music.append(get_song(query))\n",
    "        \n"
   ]
  },
  {
   "cell_type": "code",
   "execution_count": 271,
   "metadata": {
    "scrolled": false
   },
   "outputs": [
    {
     "name": "stdout",
     "output_type": "stream",
     "text": [
      "../lyrics/carpenters/invocation.html\n"
     ]
    },
    {
     "ename": "IndexError",
     "evalue": "list index out of range",
     "output_type": "error",
     "traceback": [
      "\u001b[0;31m---------------------------------------------------------------------------\u001b[0m",
      "\u001b[0;31mIndexError\u001b[0m                                Traceback (most recent call last)",
      "\u001b[0;32m<ipython-input-271-4e3b77dd271f>\u001b[0m in \u001b[0;36m<module>\u001b[0;34m()\u001b[0m\n\u001b[0;32m----> 1\u001b[0;31m \u001b[0mget_songs\u001b[0m\u001b[0;34m(\u001b[0m\u001b[0msong_links\u001b[0m\u001b[0;34m)\u001b[0m\u001b[0;34m\u001b[0m\u001b[0m\n\u001b[0m",
      "\u001b[0;32m<ipython-input-270-5165368ca77f>\u001b[0m in \u001b[0;36mget_songs\u001b[0;34m(songs)\u001b[0m\n\u001b[1;32m      8\u001b[0m         \u001b[0mquery\u001b[0m \u001b[0;34m=\u001b[0m \u001b[0;34m\"https://www.azlyrics.com/\"\u001b[0m \u001b[0;34m+\u001b[0m \u001b[0mlink\u001b[0m\u001b[0;34m\u001b[0m\u001b[0m\n\u001b[1;32m      9\u001b[0m         \u001b[0;31m#getting the details for each song\u001b[0m\u001b[0;34m\u001b[0m\u001b[0;34m\u001b[0m\u001b[0m\n\u001b[0;32m---> 10\u001b[0;31m         \u001b[0martist_music\u001b[0m\u001b[0;34m.\u001b[0m\u001b[0mappend\u001b[0m\u001b[0;34m(\u001b[0m\u001b[0mget_song\u001b[0m\u001b[0;34m(\u001b[0m\u001b[0mquery\u001b[0m\u001b[0;34m)\u001b[0m\u001b[0;34m)\u001b[0m\u001b[0;34m\u001b[0m\u001b[0m\n\u001b[0m\u001b[1;32m     11\u001b[0m \u001b[0;34m\u001b[0m\u001b[0m\n",
      "\u001b[0;32m<ipython-input-242-b7c04ff8d48f>\u001b[0m in \u001b[0;36mget_song\u001b[0;34m(song_link)\u001b[0m\n\u001b[1;32m     41\u001b[0m \u001b[0;34m\u001b[0m\u001b[0m\n\u001b[1;32m     42\u001b[0m     lyrics = re.sub('[(<.!,;?>/\\-)]', \" \", \n\u001b[0;32m---> 43\u001b[0;31m                     (((d_lyrics[0].text)[2:]).replace(\"\\n\",\" \")))\n\u001b[0m\u001b[1;32m     44\u001b[0m \u001b[0;34m\u001b[0m\u001b[0m\n\u001b[1;32m     45\u001b[0m \u001b[0;34m\u001b[0m\u001b[0m\n",
      "\u001b[0;31mIndexError\u001b[0m: list index out of range"
     ]
    }
   ],
   "source": [
    "get_songs(song_links)"
   ]
  },
  {
   "cell_type": "code",
   "execution_count": null,
   "metadata": {},
   "outputs": [],
   "source": []
  },
  {
   "cell_type": "code",
   "execution_count": null,
   "metadata": {},
   "outputs": [],
   "source": []
  }
 ],
 "metadata": {
  "kernelspec": {
   "display_name": "Python 3",
   "language": "python",
   "name": "python3"
  },
  "language_info": {
   "codemirror_mode": {
    "name": "ipython",
    "version": 3
   },
   "file_extension": ".py",
   "mimetype": "text/x-python",
   "name": "python",
   "nbconvert_exporter": "python",
   "pygments_lexer": "ipython3",
   "version": "3.6.5"
  }
 },
 "nbformat": 4,
 "nbformat_minor": 2
}
