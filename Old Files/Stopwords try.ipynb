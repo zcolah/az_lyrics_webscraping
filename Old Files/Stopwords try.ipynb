{
 "cells": [
  {
   "cell_type": "code",
   "execution_count": 7,
   "metadata": {},
   "outputs": [],
   "source": [
    "hello_lyrics = \"Hello it's me I was wondering if after all these years you'd like to meet To go over everything They say that time's supposed to heal ya But I ain't done much healing Hello, how are you It's so typical of me to talk about myself I'm sorry I hope that you're well Did you ever make it out of that town where nothing ever happened\""
   ]
  },
  {
   "cell_type": "code",
   "execution_count": 31,
   "metadata": {},
   "outputs": [],
   "source": [
    "def stop_word_remover(lyrics):\n",
    "    import re\n",
    "    import nltk\n",
    "    nltk.download('punkt')\n",
    "    from nltk.corpus import stopwords\n",
    "    nltk.download(\"stopwords\")\n",
    "    from nltk.tokenize import word_tokenize \n",
    "\n",
    "    stop_words = set(stopwords.words('english')) \n",
    "    word_tokens = word_tokenize(lyrics)\n",
    "    new_list = [] \n",
    "    \n",
    "    #print(word_tokens)\n",
    "    \n",
    "    for w in word_tokens:\n",
    "        \n",
    "        if not w.lower().replace(\"\\'\", \"\") in stop_words:\n",
    "            clean = re.sub('[(<.!,;?>/\\-)]', \" \", w)\n",
    "            if len(clean) > 1:\n",
    "                new_list.append(clean) \n",
    "            \n",
    "    return new_list"
   ]
  },
  {
   "cell_type": "code",
   "execution_count": 32,
   "metadata": {},
   "outputs": [
    {
     "name": "stdout",
     "output_type": "stream",
     "text": [
      "[nltk_data] Downloading package punkt to /Users/zcolah/nltk_data...\n",
      "[nltk_data]   Package punkt is already up-to-date!\n",
      "[nltk_data] Downloading package stopwords to\n",
      "[nltk_data]     /Users/zcolah/nltk_data...\n",
      "[nltk_data]   Package stopwords is already up-to-date!\n"
     ]
    },
    {
     "data": {
      "text/plain": [
       "['Hello',\n",
       " 'wondering',\n",
       " 'years',\n",
       " 'like',\n",
       " 'meet',\n",
       " 'go',\n",
       " 'everything',\n",
       " 'say',\n",
       " 'time',\n",
       " 'supposed',\n",
       " 'heal',\n",
       " 'ya',\n",
       " 'ai',\n",
       " \"n't\",\n",
       " 'done',\n",
       " 'much',\n",
       " 'healing',\n",
       " 'Hello',\n",
       " 'typical',\n",
       " 'talk',\n",
       " 'sorry',\n",
       " 'hope',\n",
       " 'well',\n",
       " 'ever',\n",
       " 'make',\n",
       " 'town',\n",
       " 'nothing',\n",
       " 'ever',\n",
       " 'happened']"
      ]
     },
     "execution_count": 32,
     "metadata": {},
     "output_type": "execute_result"
    }
   ],
   "source": [
    "stop_word_remover(hello_lyrics)"
   ]
  },
  {
   "cell_type": "code",
   "execution_count": null,
   "metadata": {},
   "outputs": [],
   "source": []
  }
 ],
 "metadata": {
  "kernelspec": {
   "display_name": "Python 3",
   "language": "python",
   "name": "python3"
  },
  "language_info": {
   "codemirror_mode": {
    "name": "ipython",
    "version": 3
   },
   "file_extension": ".py",
   "mimetype": "text/x-python",
   "name": "python",
   "nbconvert_exporter": "python",
   "pygments_lexer": "ipython3",
   "version": "3.6.5"
  }
 },
 "nbformat": 4,
 "nbformat_minor": 2
}
